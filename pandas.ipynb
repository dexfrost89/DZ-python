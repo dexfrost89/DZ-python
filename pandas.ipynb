{
 "cells": [
  {
   "cell_type": "markdown",
   "metadata": {},
   "source": [
    "Импортировать модули sys numpy pandas"
   ]
  },
  {
   "cell_type": "code",
   "execution_count": 1,
   "metadata": {},
   "outputs": [],
   "source": [
    "import sys\n",
    "import numpy as np\n",
    "import pandas as pd"
   ]
  },
  {
   "cell_type": "markdown",
   "metadata": {},
   "source": [
    "Создать объект pandas Series из листа, объекта NumPy, и словаря\n"
   ]
  },
  {
   "cell_type": "code",
   "execution_count": 2,
   "metadata": {},
   "outputs": [
    {
     "name": "stdout",
     "output_type": "stream",
     "text": [
      "0    1\n",
      "1    2\n",
      "2    3\n",
      "3    4\n",
      "dtype: int64\n",
      "0    0\n",
      "1    1\n",
      "2    2\n",
      "3    3\n",
      "4    4\n",
      "dtype: int64\n",
      "a    1\n",
      "b    3\n",
      "dtype: int64\n"
     ]
    }
   ],
   "source": [
    "print(pd.Series([1, 2, 3, 4]))\n",
    "print(pd.Series(np.arange(5)))\n",
    "print(pd.Series({'a':1, 'b':3}))"
   ]
  },
  {
   "cell_type": "markdown",
   "metadata": {},
   "source": [
    "Преобразовать объект Seris в DataFrame\n",
    "создать объект Series\n",
    "преобразовать в DataFrame\n"
   ]
  },
  {
   "cell_type": "code",
   "execution_count": 3,
   "metadata": {},
   "outputs": [
    {
     "name": "stdout",
     "output_type": "stream",
     "text": [
      "   0\n",
      "0  1\n",
      "1  2\n",
      "2  3\n",
      "3  4\n"
     ]
    }
   ],
   "source": [
    "print(pd.Series([1,2 , 3, 4]).to_frame())"
   ]
  },
  {
   "cell_type": "markdown",
   "metadata": {},
   "source": [
    "\n",
    "объединить несколько объектов Series в Dataframe"
   ]
  },
  {
   "cell_type": "code",
   "execution_count": 4,
   "metadata": {},
   "outputs": [
    {
     "name": "stdout",
     "output_type": "stream",
     "text": [
      "   0  1\n",
      "0  1  0\n",
      "1  2  1\n",
      "2  3  2\n",
      "3  4  3\n"
     ]
    }
   ],
   "source": [
    "A = pd.Series([1,2 , 3, 4])\n",
    "B = pd.Series(np.arange(4))\n",
    "\n",
    "df = pd.concat([A, B], axis=1)\n",
    "print(df)\n"
   ]
  },
  {
   "cell_type": "markdown",
   "metadata": {},
   "source": [
    "Присвоить имя индексу объекта Series\n"
   ]
  },
  {
   "cell_type": "code",
   "execution_count": 5,
   "metadata": {},
   "outputs": [
    {
     "data": {
      "text/plain": [
       "0    1\n",
       "1    2\n",
       "2    3\n",
       "3    4\n",
       "Name: new_name, dtype: int64"
      ]
     },
     "execution_count": 5,
     "metadata": {},
     "output_type": "execute_result"
    }
   ],
   "source": [
    "A.name = 'new_name'\n",
    "A"
   ]
  },
  {
   "cell_type": "markdown",
   "metadata": {},
   "source": [
    "Получить элементы объекта Series A, которых нет в объекте Series B\n",
    "возвратить вместе с индексами\n",
    "возвратить значения\n"
   ]
  },
  {
   "cell_type": "code",
   "execution_count": 6,
   "metadata": {},
   "outputs": [
    {
     "data": {
      "text/plain": [
       "0    1\n",
       "1    3\n",
       "3    2\n",
       "dtype: int64"
      ]
     },
     "execution_count": 6,
     "metadata": {},
     "output_type": "execute_result"
    }
   ],
   "source": [
    "A = pd.Series([1, 3, 4, 2, 5])\n",
    "B = pd.Series([4, 5, 6, 7, 8])\n",
    "A[~A.isin(B)]"
   ]
  },
  {
   "cell_type": "markdown",
   "metadata": {},
   "source": [
    "Получить не пересекающиеся элементы в двух объектах Series\n",
    "возвратить вместе с индексами\n",
    "получить объединенный Series без повтороений\n",
    "получить пересекающиеся данные\n",
    "отобрать все данные, кроме пересекающихся\n",
    "возвратить значения"
   ]
  },
  {
   "cell_type": "code",
   "execution_count": 7,
   "metadata": {},
   "outputs": [
    {
     "data": {
      "text/plain": [
       "0    1\n",
       "1    2\n",
       "2    3\n",
       "3    4\n",
       "4    5\n",
       "5    6\n",
       "6    7\n",
       "7    8\n",
       "dtype: int64"
      ]
     },
     "execution_count": 7,
     "metadata": {},
     "output_type": "execute_result"
    }
   ],
   "source": [
    "C = pd.Series(np.union1d(A, B))\n",
    "C"
   ]
  },
  {
   "cell_type": "code",
   "execution_count": 8,
   "metadata": {},
   "outputs": [
    {
     "data": {
      "text/plain": [
       "0    1\n",
       "1    2\n",
       "2    3\n",
       "5    6\n",
       "6    7\n",
       "7    8\n",
       "dtype: int64"
      ]
     },
     "execution_count": 8,
     "metadata": {},
     "output_type": "execute_result"
    }
   ],
   "source": [
    "C[~C.isin(np.intersect1d(A, B))]"
   ]
  },
  {
   "cell_type": "markdown",
   "metadata": {},
   "source": [
    "   "
   ]
  },
  {
   "cell_type": "markdown",
   "metadata": {},
   "source": [
    "Получить от объекта Series показатели описательной статистики\n"
   ]
  },
  {
   "cell_type": "code",
   "execution_count": 12,
   "metadata": {},
   "outputs": [
    {
     "data": {
      "text/plain": [
       "count    5.000000\n",
       "mean     3.000000\n",
       "std      1.581139\n",
       "min      1.000000\n",
       "25%      2.000000\n",
       "50%      3.000000\n",
       "75%      4.000000\n",
       "max      5.000000\n",
       "dtype: float64"
      ]
     },
     "execution_count": 12,
     "metadata": {},
     "output_type": "execute_result"
    }
   ],
   "source": [
    "A.describe()"
   ]
  },
  {
   "cell_type": "markdown",
   "metadata": {},
   "source": [
    "Узнать частоту уникальных элементов объекта Series (гистограмма)\n"
   ]
  },
  {
   "cell_type": "code",
   "execution_count": 14,
   "metadata": {},
   "outputs": [
    {
     "data": {
      "text/plain": [
       "5    1\n",
       "4    1\n",
       "3    1\n",
       "2    1\n",
       "1    1\n",
       "dtype: int64"
      ]
     },
     "execution_count": 14,
     "metadata": {},
     "output_type": "execute_result"
    }
   ],
   "source": [
    "A.value_counts()"
   ]
  },
  {
   "cell_type": "markdown",
   "metadata": {},
   "source": [
    "Заменить все элементы объекта Series на \"Other\", кроме двух наиболее часто встречающихся\n"
   ]
  },
  {
   "cell_type": "code",
   "execution_count": 17,
   "metadata": {},
   "outputs": [
    {
     "data": {
      "text/plain": [
       "0        1\n",
       "1        1\n",
       "2        2\n",
       "3        2\n",
       "4    Other\n",
       "5    Other\n",
       "6    Other\n",
       "7    Other\n",
       "dtype: object"
      ]
     },
     "execution_count": 17,
     "metadata": {},
     "output_type": "execute_result"
    }
   ],
   "source": [
    "A = [1, 1, 2, 2, 3, 4, 5, 6]\n",
    "A = pd.Series(A)\n",
    "\n",
    "A[~A.isin(A.value_counts().index[:2])] = 'Other'\n",
    "\n",
    "A"
   ]
  },
  {
   "cell_type": "markdown",
   "metadata": {},
   "source": [
    "Создать объект Series в индексах дата каждый день 2019 года, в значениях случайное значение\n"
   ]
  },
  {
   "cell_type": "code",
   "execution_count": 24,
   "metadata": {},
   "outputs": [
    {
     "data": {
      "text/plain": [
       "2019-01-01    0.421831\n",
       "2019-01-02    0.976130\n",
       "2019-01-03    0.303530\n",
       "2019-01-04    0.557459\n",
       "2019-01-05    0.850335\n",
       "                ...   \n",
       "2019-12-27    0.282871\n",
       "2019-12-28    0.236053\n",
       "2019-12-29    0.761686\n",
       "2019-12-30    0.833922\n",
       "2019-12-31    0.623987\n",
       "Freq: D, Length: 365, dtype: float64"
      ]
     },
     "execution_count": 24,
     "metadata": {},
     "output_type": "execute_result"
    }
   ],
   "source": [
    "A = pd.date_range(start='2019-01-01', end='2019-12-31') \n",
    "A = pd.Series(np.random.rand(len(A)), index=A)\n",
    "A"
   ]
  },
  {
   "cell_type": "markdown",
   "metadata": {},
   "source": [
    "Найти сумму всех вторников\n"
   ]
  },
  {
   "cell_type": "code",
   "execution_count": 26,
   "metadata": {},
   "outputs": [
    {
     "data": {
      "text/plain": [
       "29.58273014170827"
      ]
     },
     "execution_count": 26,
     "metadata": {},
     "output_type": "execute_result"
    }
   ],
   "source": [
    "A[A.index.weekday == 2].sum()"
   ]
  },
  {
   "cell_type": "markdown",
   "metadata": {},
   "source": [
    "Для каждого месяца найти среднее значение\n"
   ]
  },
  {
   "cell_type": "code",
   "execution_count": 27,
   "metadata": {},
   "outputs": [
    {
     "data": {
      "text/plain": [
       "2019-01-31    0.540910\n",
       "2019-02-28    0.465093\n",
       "2019-03-31    0.464960\n",
       "2019-04-30    0.509417\n",
       "2019-05-31    0.482855\n",
       "2019-06-30    0.531453\n",
       "2019-07-31    0.498487\n",
       "2019-08-31    0.586539\n",
       "2019-09-30    0.540835\n",
       "2019-10-31    0.527843\n",
       "2019-11-30    0.456189\n",
       "2019-12-31    0.532814\n",
       "Freq: M, dtype: float64"
      ]
     },
     "execution_count": 27,
     "metadata": {},
     "output_type": "execute_result"
    }
   ],
   "source": [
    "A.resample('M').mean()"
   ]
  },
  {
   "cell_type": "markdown",
   "metadata": {},
   "source": [
    "Преобразовать объект Series в DataFrame заданной формы (shape)\n"
   ]
  },
  {
   "cell_type": "code",
   "execution_count": 33,
   "metadata": {},
   "outputs": [
    {
     "data": {
      "text/html": [
       "<div>\n",
       "<style scoped>\n",
       "    .dataframe tbody tr th:only-of-type {\n",
       "        vertical-align: middle;\n",
       "    }\n",
       "\n",
       "    .dataframe tbody tr th {\n",
       "        vertical-align: top;\n",
       "    }\n",
       "\n",
       "    .dataframe thead th {\n",
       "        text-align: right;\n",
       "    }\n",
       "</style>\n",
       "<table border=\"1\" class=\"dataframe\">\n",
       "  <thead>\n",
       "    <tr style=\"text-align: right;\">\n",
       "      <th></th>\n",
       "      <th>0</th>\n",
       "      <th>1</th>\n",
       "      <th>2</th>\n",
       "      <th>3</th>\n",
       "      <th>4</th>\n",
       "      <th>5</th>\n",
       "      <th>6</th>\n",
       "      <th>7</th>\n",
       "      <th>8</th>\n",
       "      <th>9</th>\n",
       "      <th>...</th>\n",
       "      <th>63</th>\n",
       "      <th>64</th>\n",
       "      <th>65</th>\n",
       "      <th>66</th>\n",
       "      <th>67</th>\n",
       "      <th>68</th>\n",
       "      <th>69</th>\n",
       "      <th>70</th>\n",
       "      <th>71</th>\n",
       "      <th>72</th>\n",
       "    </tr>\n",
       "  </thead>\n",
       "  <tbody>\n",
       "    <tr>\n",
       "      <td>0</td>\n",
       "      <td>0.421831</td>\n",
       "      <td>0.976130</td>\n",
       "      <td>0.303530</td>\n",
       "      <td>0.557459</td>\n",
       "      <td>0.850335</td>\n",
       "      <td>0.928349</td>\n",
       "      <td>0.796432</td>\n",
       "      <td>0.036259</td>\n",
       "      <td>0.804328</td>\n",
       "      <td>0.347132</td>\n",
       "      <td>...</td>\n",
       "      <td>0.736514</td>\n",
       "      <td>0.187069</td>\n",
       "      <td>0.531201</td>\n",
       "      <td>0.095713</td>\n",
       "      <td>0.116770</td>\n",
       "      <td>0.027802</td>\n",
       "      <td>0.870629</td>\n",
       "      <td>0.278620</td>\n",
       "      <td>0.479285</td>\n",
       "      <td>0.356670</td>\n",
       "    </tr>\n",
       "    <tr>\n",
       "      <td>1</td>\n",
       "      <td>0.466368</td>\n",
       "      <td>0.901639</td>\n",
       "      <td>0.072743</td>\n",
       "      <td>0.226323</td>\n",
       "      <td>0.996035</td>\n",
       "      <td>0.553354</td>\n",
       "      <td>0.102386</td>\n",
       "      <td>0.809940</td>\n",
       "      <td>0.121166</td>\n",
       "      <td>0.525921</td>\n",
       "      <td>...</td>\n",
       "      <td>0.975626</td>\n",
       "      <td>0.556325</td>\n",
       "      <td>0.070276</td>\n",
       "      <td>0.217575</td>\n",
       "      <td>0.388836</td>\n",
       "      <td>0.022362</td>\n",
       "      <td>0.373930</td>\n",
       "      <td>0.242622</td>\n",
       "      <td>0.154840</td>\n",
       "      <td>0.788727</td>\n",
       "    </tr>\n",
       "    <tr>\n",
       "      <td>2</td>\n",
       "      <td>0.419426</td>\n",
       "      <td>0.883409</td>\n",
       "      <td>0.985532</td>\n",
       "      <td>0.949005</td>\n",
       "      <td>0.242510</td>\n",
       "      <td>0.410716</td>\n",
       "      <td>0.957354</td>\n",
       "      <td>0.802375</td>\n",
       "      <td>0.834068</td>\n",
       "      <td>0.642173</td>\n",
       "      <td>...</td>\n",
       "      <td>0.600650</td>\n",
       "      <td>0.002078</td>\n",
       "      <td>0.090613</td>\n",
       "      <td>0.459910</td>\n",
       "      <td>0.656526</td>\n",
       "      <td>0.581155</td>\n",
       "      <td>0.121397</td>\n",
       "      <td>0.669729</td>\n",
       "      <td>0.264389</td>\n",
       "      <td>0.236185</td>\n",
       "    </tr>\n",
       "    <tr>\n",
       "      <td>3</td>\n",
       "      <td>0.921033</td>\n",
       "      <td>0.690138</td>\n",
       "      <td>0.848491</td>\n",
       "      <td>0.646484</td>\n",
       "      <td>0.731115</td>\n",
       "      <td>0.998381</td>\n",
       "      <td>0.789292</td>\n",
       "      <td>0.433437</td>\n",
       "      <td>0.421497</td>\n",
       "      <td>0.990646</td>\n",
       "      <td>...</td>\n",
       "      <td>0.744257</td>\n",
       "      <td>0.439565</td>\n",
       "      <td>0.155140</td>\n",
       "      <td>0.492528</td>\n",
       "      <td>0.783439</td>\n",
       "      <td>0.841652</td>\n",
       "      <td>0.840131</td>\n",
       "      <td>0.625494</td>\n",
       "      <td>0.929908</td>\n",
       "      <td>0.781729</td>\n",
       "    </tr>\n",
       "    <tr>\n",
       "      <td>4</td>\n",
       "      <td>0.576655</td>\n",
       "      <td>0.132316</td>\n",
       "      <td>0.509936</td>\n",
       "      <td>0.342881</td>\n",
       "      <td>0.181825</td>\n",
       "      <td>0.386487</td>\n",
       "      <td>0.704834</td>\n",
       "      <td>0.804151</td>\n",
       "      <td>0.040727</td>\n",
       "      <td>0.638341</td>\n",
       "      <td>...</td>\n",
       "      <td>0.650359</td>\n",
       "      <td>0.328591</td>\n",
       "      <td>0.963346</td>\n",
       "      <td>0.143338</td>\n",
       "      <td>0.186601</td>\n",
       "      <td>0.282871</td>\n",
       "      <td>0.236053</td>\n",
       "      <td>0.761686</td>\n",
       "      <td>0.833922</td>\n",
       "      <td>0.623987</td>\n",
       "    </tr>\n",
       "  </tbody>\n",
       "</table>\n",
       "<p>5 rows × 73 columns</p>\n",
       "</div>"
      ],
      "text/plain": [
       "         0         1         2         3         4         5         6   \\\n",
       "0  0.421831  0.976130  0.303530  0.557459  0.850335  0.928349  0.796432   \n",
       "1  0.466368  0.901639  0.072743  0.226323  0.996035  0.553354  0.102386   \n",
       "2  0.419426  0.883409  0.985532  0.949005  0.242510  0.410716  0.957354   \n",
       "3  0.921033  0.690138  0.848491  0.646484  0.731115  0.998381  0.789292   \n",
       "4  0.576655  0.132316  0.509936  0.342881  0.181825  0.386487  0.704834   \n",
       "\n",
       "         7         8         9   ...        63        64        65        66  \\\n",
       "0  0.036259  0.804328  0.347132  ...  0.736514  0.187069  0.531201  0.095713   \n",
       "1  0.809940  0.121166  0.525921  ...  0.975626  0.556325  0.070276  0.217575   \n",
       "2  0.802375  0.834068  0.642173  ...  0.600650  0.002078  0.090613  0.459910   \n",
       "3  0.433437  0.421497  0.990646  ...  0.744257  0.439565  0.155140  0.492528   \n",
       "4  0.804151  0.040727  0.638341  ...  0.650359  0.328591  0.963346  0.143338   \n",
       "\n",
       "         67        68        69        70        71        72  \n",
       "0  0.116770  0.027802  0.870629  0.278620  0.479285  0.356670  \n",
       "1  0.388836  0.022362  0.373930  0.242622  0.154840  0.788727  \n",
       "2  0.656526  0.581155  0.121397  0.669729  0.264389  0.236185  \n",
       "3  0.783439  0.841652  0.840131  0.625494  0.929908  0.781729  \n",
       "4  0.186601  0.282871  0.236053  0.761686  0.833922  0.623987  \n",
       "\n",
       "[5 rows x 73 columns]"
      ]
     },
     "execution_count": 33,
     "metadata": {},
     "output_type": "execute_result"
    }
   ],
   "source": [
    "pd.DataFrame(A.values.reshape((5, 73)))"
   ]
  },
  {
   "cell_type": "markdown",
   "metadata": {},
   "source": [
    "Найти индексы объекта Series кратные 3\n"
   ]
  },
  {
   "cell_type": "code",
   "execution_count": 36,
   "metadata": {},
   "outputs": [
    {
     "data": {
      "text/plain": [
       "Int64Index([ 0,  3,  6,  9, 12, 15, 18, 21, 24, 27, 30, 33, 36, 39, 42, 45, 48,\n",
       "            51, 54, 57, 60, 63, 66, 69, 72, 75, 78, 81, 84, 87, 90, 93, 96,\n",
       "            99],\n",
       "           dtype='int64')"
      ]
     },
     "execution_count": 36,
     "metadata": {},
     "output_type": "execute_result"
    }
   ],
   "source": [
    "A = pd.Series(list(range(100)))\n",
    "\n",
    "A[A % 3 == 0].index"
   ]
  },
  {
   "cell_type": "markdown",
   "metadata": {},
   "source": [
    "Получить данные по индексам объекта Series\n"
   ]
  },
  {
   "cell_type": "code",
   "execution_count": 38,
   "metadata": {},
   "outputs": [
    {
     "data": {
      "text/plain": [
       "5    5\n",
       "2    2\n",
       "3    3\n",
       "dtype: int64"
      ]
     },
     "execution_count": 38,
     "metadata": {},
     "output_type": "execute_result"
    }
   ],
   "source": [
    "A[[5, 2, 3]]"
   ]
  },
  {
   "cell_type": "markdown",
   "metadata": {},
   "source": [
    "Объединить два объекта Series вертикально и горизонтально\n"
   ]
  },
  {
   "cell_type": "code",
   "execution_count": 42,
   "metadata": {},
   "outputs": [
    {
     "name": "stdout",
     "output_type": "stream",
     "text": [
      "   0  1\n",
      "0  1  a\n",
      "1  2  b\n",
      "2  3  c\n",
      "3  4  d\n",
      "0    1\n",
      "1    2\n",
      "2    3\n",
      "3    4\n",
      "0    a\n",
      "1    b\n",
      "2    c\n",
      "3    d\n",
      "dtype: object\n"
     ]
    }
   ],
   "source": [
    "print(pd.concat([pd.Series([1, 2, 3, 4]), pd.Series(list('abcd'))], axis=1))\n",
    "print(pd.concat([pd.Series([1, 2, 3, 4]), pd.Series(list('abcd'))], axis=0))"
   ]
  },
  {
   "cell_type": "markdown",
   "metadata": {},
   "source": [
    "Получить индексы объекта Series A, данные которых содержатся в объетке Series B\n"
   ]
  },
  {
   "cell_type": "code",
   "execution_count": 44,
   "metadata": {},
   "outputs": [
    {
     "name": "stdout",
     "output_type": "stream",
     "text": [
      "Int64Index([1, 3, 4], dtype='int64')\n"
     ]
    }
   ],
   "source": [
    "A = pd.Series([ 3, 4, 5, 6, 7 ])\n",
    "B = pd.Series([ 4, 7, 6 ])\n",
    "print(A[A.isin(B)].index)"
   ]
  },
  {
   "cell_type": "markdown",
   "metadata": {},
   "source": [
    "Получить объект Series B, котоырй содержит элементы без повторений объекта A\n"
   ]
  },
  {
   "cell_type": "code",
   "execution_count": 46,
   "metadata": {},
   "outputs": [
    {
     "data": {
      "text/plain": [
       "array([1, 2, 3, 4, 5, 6])"
      ]
     },
     "execution_count": 46,
     "metadata": {},
     "output_type": "execute_result"
    }
   ],
   "source": [
    "A = pd.Series([1, 1, 2, 3, 3, 4, 5, 6])\n",
    "B = A.unique()\n",
    "B"
   ]
  },
  {
   "cell_type": "markdown",
   "metadata": {},
   "source": [
    "Преобразовать каждый символ объекта Series в верхний регистр\n"
   ]
  },
  {
   "cell_type": "code",
   "execution_count": 49,
   "metadata": {},
   "outputs": [
    {
     "data": {
      "text/plain": [
       "0     A\n",
       "1    BC\n",
       "2     D\n",
       "3    EF\n",
       "dtype: object"
      ]
     },
     "execution_count": 49,
     "metadata": {},
     "output_type": "execute_result"
    }
   ],
   "source": [
    "A = pd.Series(['a','bc','d','ef'])\n",
    "pd.Series([x.upper() for x in A])"
   ]
  },
  {
   "cell_type": "markdown",
   "metadata": {},
   "source": [
    "преобразовать данных Series в строку\n"
   ]
  },
  {
   "cell_type": "code",
   "execution_count": 54,
   "metadata": {},
   "outputs": [
    {
     "data": {
      "text/plain": [
       "0     1\n",
       "1     2\n",
       "2     3\n",
       "3     4\n",
       "4     5\n",
       "5     6\n",
       "6    11\n",
       "dtype: object"
      ]
     },
     "execution_count": 54,
     "metadata": {},
     "output_type": "execute_result"
    }
   ],
   "source": [
    "A = pd.Series([1, 2, 3, 4,5,6, 11])\n",
    "B = pd.Series([str(x) for x in A])\n",
    "B"
   ]
  },
  {
   "cell_type": "markdown",
   "metadata": {},
   "source": [
    "Рассчитать количество символов в объекте Series\n",
    "преобразовать в строковый тип\n"
   ]
  },
  {
   "cell_type": "code",
   "execution_count": 55,
   "metadata": {},
   "outputs": [
    {
     "data": {
      "text/plain": [
       "[1, 1, 1, 1, 1, 1, 2]"
      ]
     },
     "execution_count": 55,
     "metadata": {},
     "output_type": "execute_result"
    }
   ],
   "source": [
    "[len(x) for x in B]"
   ]
  },
  {
   "cell_type": "markdown",
   "metadata": {},
   "source": [
    "Найти разность между объектом Series и смещением объекта Series на n\n"
   ]
  },
  {
   "cell_type": "code",
   "execution_count": 58,
   "metadata": {},
   "outputs": [
    {
     "data": {
      "text/plain": [
       "0    NaN\n",
       "1    1.0\n",
       "2    1.0\n",
       "3    1.0\n",
       "4    1.0\n",
       "dtype: float64"
      ]
     },
     "execution_count": 58,
     "metadata": {},
     "output_type": "execute_result"
    }
   ],
   "source": [
    "A = pd.Series([1, 2, 3, 4, 5])\n",
    "\n",
    "A.diff(periods=1)"
   ]
  },
  {
   "cell_type": "markdown",
   "metadata": {},
   "source": [
    "Преобразовать разыне форматы строк объекта Series в дату\n"
   ]
  },
  {
   "cell_type": "code",
   "execution_count": 60,
   "metadata": {},
   "outputs": [
    {
     "data": {
      "text/plain": [
       "0   2019-01-01\n",
       "1   2018-02-02\n",
       "2   2017-01-01\n",
       "dtype: datetime64[ns]"
      ]
     },
     "execution_count": 60,
     "metadata": {},
     "output_type": "execute_result"
    }
   ],
   "source": [
    "A = pd.Series(['01.01.2019', '02/02/2018', '1 jan 2017'])\n",
    "pd.to_datetime(A)"
   ]
  },
  {
   "cell_type": "markdown",
   "metadata": {},
   "source": [
    "Поскольку работа с датой часто встречается в работе, то см. еще один пример\n",
    "все данные должны иметь одинаковый формат (часто бывает выгрузка из SQL)\n",
    "преобразовать в дату\n",
    "Получить год, месяц, день, день недели, номер дня в году от объекта Series (string)\n",
    "распарсить в дату и время\n",
    "получить года\n",
    "получить месяца\n",
    "получить дни\n",
    "получить номер недели\n",
    "получить номер дня в году\n"
   ]
  },
  {
   "cell_type": "code",
   "execution_count": 62,
   "metadata": {},
   "outputs": [
    {
     "name": "stdout",
     "output_type": "stream",
     "text": [
      "0    2019\n",
      "1    2016\n",
      "2    2011\n",
      "3    2012\n",
      "4    2029\n",
      "dtype: int64\n",
      "0    11\n",
      "1     3\n",
      "2     1\n",
      "3     3\n",
      "4    11\n",
      "dtype: int64\n",
      "0     1\n",
      "1     7\n",
      "2     1\n",
      "3     3\n",
      "4    30\n",
      "dtype: int64\n",
      "0    44\n",
      "1    10\n",
      "2    52\n",
      "3     9\n",
      "4    48\n",
      "dtype: int64\n",
      "0    305\n",
      "1     67\n",
      "2      1\n",
      "3     63\n",
      "4    334\n",
      "dtype: int64\n"
     ]
    }
   ],
   "source": [
    "from dateutil.parser import parse\n",
    " \n",
    "A = pd.Series([ '01 nov 2019',\n",
    "                '2016/03/07',\n",
    "                '01-01-2011',\n",
    "                '20120303',\n",
    "                '2029-11-30'])\n",
    " \n",
    "B = A.map(lambda x: parse(x, yearfirst=True))\n",
    "print(B.dt.year)\n",
    "print(B.dt.month)\n",
    "print(B.dt.day)\n",
    "print(B.dt.weekofyear)\n",
    "print(B.dt.dayofyear)"
   ]
  },
  {
   "cell_type": "markdown",
   "metadata": {},
   "source": [
    "Отобрать элементы объекта Series, кторые содержат не менее двух гласных\n"
   ]
  },
  {
   "cell_type": "code",
   "execution_count": 65,
   "metadata": {},
   "outputs": [
    {
     "name": "stdout",
     "output_type": "stream",
     "text": [
      "aba\n",
      "abac\n",
      "abacaba\n"
     ]
    }
   ],
   "source": [
    "F = lambda s: s.lower().count('a') + s.lower().count('e') + s.lower().count('o') + s.lower().count('u') + s.lower().count('i')\n",
    "\n",
    "A = pd.Series(['ab', 'aba', 'abac', 'abacaba'])\n",
    "\n",
    "for i in A:\n",
    "    if F(i) >= 2:\n",
    "        print(i)"
   ]
  },
  {
   "cell_type": "markdown",
   "metadata": {},
   "source": [
    "Отобрать e-маилы из объекта Series (можно юзать регулярки)\n"
   ]
  },
  {
   "cell_type": "code",
   "execution_count": 68,
   "metadata": {},
   "outputs": [
    {
     "name": "stdout",
     "output_type": "stream",
     "text": [
      "1    test@google.c\n",
      "dtype: object\n"
     ]
    }
   ],
   "source": [
    "import re\n",
    " \n",
    "emails = pd.Series([ 'test text @test.com',\n",
    "                     'test@google.c',\n",
    "                     'test.su',\n",
    "                     'test@pp' ])\n",
    "\n",
    "mask = emails.map(lambda x: bool(re.match('[A-Za-z0-9._%+-]+@[A-Za-z0-9.-]+\\\\.[A-Za-z]', x)))\n",
    "print(emails[mask])"
   ]
  },
  {
   "cell_type": "markdown",
   "metadata": {},
   "source": [
    "Получить среднее значение каждого уникального объекта Series s1 через \"маску\" другого объекта Series s2"
   ]
  },
  {
   "cell_type": "code",
   "execution_count": 78,
   "metadata": {},
   "outputs": [
    {
     "name": "stdout",
     "output_type": "stream",
     "text": [
      "0    horse\n",
      "1    horse\n",
      "2      dog\n",
      "3     bird\n",
      "4      dog\n",
      "5    horse\n",
      "6    horse\n",
      "7    horse\n",
      "8     bird\n",
      "9     bird\n",
      "dtype: object\n",
      "0     1.0\n",
      "1     2.0\n",
      "2     3.0\n",
      "3     4.0\n",
      "4     5.0\n",
      "5     6.0\n",
      "6     7.0\n",
      "7     8.0\n",
      "8     9.0\n",
      "9    10.0\n",
      "dtype: float64\n",
      "bird     7.666667\n",
      "dog      4.000000\n",
      "horse    4.800000\n",
      "dtype: float64\n"
     ]
    }
   ],
   "source": [
    "A = pd.Series(np.random.choice(['dog', 'cat', 'horse', 'bird'], 10))\n",
    "B = pd.Series(np.linspace(1,10,10))\n",
    "res = B.groupby(A).mean()\n",
    "print(A)\n",
    "print(B)\n",
    "print(res)"
   ]
  },
  {
   "cell_type": "markdown",
   "metadata": {},
   "source": [
    " Найти евклидово расстоняие между двумя объектами Series\n"
   ]
  },
  {
   "cell_type": "code",
   "execution_count": 80,
   "metadata": {},
   "outputs": [
    {
     "name": "stdout",
     "output_type": "stream",
     "text": [
      "0    6\n",
      "1    6\n",
      "2    7\n",
      "dtype: int64\n",
      "0    5\n",
      "1    0\n",
      "2    0\n",
      "dtype: int64\n"
     ]
    },
    {
     "data": {
      "text/plain": [
       "9.273618495495704"
      ]
     },
     "execution_count": 80,
     "metadata": {},
     "output_type": "execute_result"
    }
   ],
   "source": [
    "A = pd.Series(np.random.randint(0, 10, 3))\n",
    "B = pd.Series(np.random.randint(0, 10, 3))\n",
    "\n",
    "\n",
    "print(A)\n",
    "print(B)\n",
    "np.linalg.norm(B - A)"
   ]
  },
  {
   "cell_type": "markdown",
   "metadata": {},
   "source": [
    " Найти индексы локальных максимумов в объекте Series\n"
   ]
  },
  {
   "cell_type": "code",
   "execution_count": 85,
   "metadata": {},
   "outputs": [
    {
     "name": "stdout",
     "output_type": "stream",
     "text": [
      "[ 1  1  1 -1 -1  1 -1  1  1 -1]\n",
      "[ 0  0 -2  0  2 -2  2  0 -2]\n",
      "[3 6 9]\n"
     ]
    }
   ],
   "source": [
    "A = pd.Series([ 1, 5, 7, 11, 8, 4, 12, 5, 8, 16, 8 ])\n",
    "d1 = np.sign(np.diff(A))\n",
    "print(d1)\n",
    "d2 = np.diff(d1)\n",
    "print(d2)\n",
    "print(np.where(d2 == -2)[0] + 1)"
   ]
  },
  {
   "cell_type": "markdown",
   "metadata": {},
   "source": [
    " Заменить пробелы наименее часто встречающимся символов\n"
   ]
  },
  {
   "cell_type": "code",
   "execution_count": 93,
   "metadata": {},
   "outputs": [
    {
     "name": "stdout",
     "output_type": "stream",
     "text": [
      "Abasoefmnoancaknmlkac,snclkmnckancakscl;las;cn\n"
     ]
    }
   ],
   "source": [
    "A = pd.Series(list(\"Abasoefmnoa cak mlkac,s clkm cka cakscl;las;c \"))\n",
    "print(\"Abasoefmnoa cak mlkac,s clkm cka cakscl;las;c \".replace(' ', A.value_counts().index[-1]))"
   ]
  },
  {
   "cell_type": "markdown",
   "metadata": {},
   "source": [
    " Создать объект Series, который содержит в индексах даты выходных дней субботы, а в значениях случайные числа от 1 до 10\n"
   ]
  },
  {
   "cell_type": "code",
   "execution_count": 99,
   "metadata": {},
   "outputs": [
    {
     "name": "stdout",
     "output_type": "stream",
     "text": [
      "2019-01-05    9\n",
      "2019-01-12    1\n",
      "2019-01-19    3\n",
      "2019-01-26    6\n",
      "2019-02-02    0\n",
      "2019-02-09    4\n",
      "2019-02-16    8\n",
      "2019-02-23    6\n",
      "2019-03-02    4\n",
      "2019-03-09    8\n",
      "2019-03-16    2\n",
      "2019-03-23    6\n",
      "2019-03-30    0\n",
      "2019-04-06    3\n",
      "2019-04-13    2\n",
      "2019-04-20    2\n",
      "2019-04-27    4\n",
      "2019-05-04    1\n",
      "2019-05-11    1\n",
      "2019-05-18    5\n",
      "2019-05-25    4\n",
      "2019-06-01    7\n",
      "2019-06-08    1\n",
      "2019-06-15    3\n",
      "2019-06-22    3\n",
      "2019-06-29    2\n",
      "2019-07-06    7\n",
      "2019-07-13    1\n",
      "2019-07-20    1\n",
      "2019-07-27    3\n",
      "2019-08-03    1\n",
      "2019-08-10    5\n",
      "2019-08-17    3\n",
      "2019-08-24    3\n",
      "2019-08-31    7\n",
      "2019-09-07    4\n",
      "2019-09-14    3\n",
      "2019-09-21    7\n",
      "2019-09-28    3\n",
      "2019-10-05    7\n",
      "2019-10-12    0\n",
      "2019-10-19    7\n",
      "2019-10-26    4\n",
      "2019-11-02    8\n",
      "2019-11-09    5\n",
      "2019-11-16    9\n",
      "2019-11-23    7\n",
      "2019-11-30    7\n",
      "2019-12-07    3\n",
      "2019-12-14    0\n",
      "2019-12-21    0\n",
      "2019-12-28    7\n",
      "Freq: W-SAT, dtype: int64\n"
     ]
    }
   ],
   "source": [
    "s = pd.Series(np.random.randint(0, 10, len(pd.date_range(start='2019-01-01', end='2019-12-31', freq='W-SAT'))),\n",
    "              pd.date_range(start='2019-01-01', end='2019-12-31',\n",
    "                            freq='W-SAT'))\n",
    "print(s)"
   ]
  },
  {
   "cell_type": "markdown",
   "metadata": {},
   "source": [
    " Заполнить пропущенные даты, значением выше (заполненной даты)\n"
   ]
  },
  {
   "cell_type": "code",
   "execution_count": 103,
   "metadata": {},
   "outputs": [
    {
     "name": "stdout",
     "output_type": "stream",
     "text": [
      "2018-01-01    2\n",
      "2018-01-02    2\n",
      "2018-01-03    5\n",
      "2018-01-04    5\n",
      "2018-01-05    5\n",
      "2018-01-06    8\n",
      "Freq: D, dtype: int64\n"
     ]
    }
   ],
   "source": [
    "s = pd.Series([ 2, 5, 8 ],\n",
    "              index=pd.to_datetime([ '2018-01-01',\n",
    "                                     '2018-01-03',\n",
    "                                     '2018-01-06' ]))\n",
    "print(s.resample('D').ffill())"
   ]
  },
  {
   "cell_type": "markdown",
   "metadata": {},
   "source": [
    " Вычислить автокорреляцию объекта Series"
   ]
  },
  {
   "cell_type": "code",
   "execution_count": 76,
   "metadata": {},
   "outputs": [
    {
     "name": "stdout",
     "output_type": "stream",
     "text": [
      "-0.02941176470588235\n"
     ]
    }
   ],
   "source": [
    "s = pd.Series(np.random.randint(0, 10, 10))\n",
    "print(s.autocorr())"
   ]
  },
  {
   "cell_type": "code",
   "execution_count": 15,
   "metadata": {},
   "outputs": [
    {
     "name": "stdout",
     "output_type": "stream",
     "text": [
      "   Survived                                               Name     Sex\n",
      "0         0                            Braund, Mr. Owen Harris    male\n",
      "1         1  Cumings, Mrs. John Bradley (Florence Briggs Th...  female\n",
      "2         1                             Heikkinen, Miss. Laina  female\n",
      "3         1       Futrelle, Mrs. Jacques Heath (Lily May Peel)  female\n",
      "4         0                           Allen, Mr. William Henry    male\n",
      "5         0                                   Moran, Mr. James    male\n",
      "6         0                            McCarthy, Mr. Timothy J    male\n",
      "7         0                     Palsson, Master. Gosta Leonard    male\n",
      "8         1  Johnson, Mrs. Oscar W (Elisabeth Vilhelmina Berg)  female\n",
      "9         1                Nasser, Mrs. Nicholas (Adele Achem)  female\n",
      "      Age    Cabin Embarked      Fare  \\\n",
      "0    22.0      NaN        S    7.2500   \n",
      "100  28.0      NaN        S    7.8958   \n",
      "200  28.0      NaN        S    9.5000   \n",
      "300   NaN      NaN        Q    7.7500   \n",
      "400  39.0      NaN        S    7.9250   \n",
      "500  17.0      NaN        S    8.6625   \n",
      "600  24.0      NaN        S   27.0000   \n",
      "700  18.0  C62 C64        C  227.5250   \n",
      "800  34.0      NaN        S   13.0000   \n",
      "\n",
      "                                                  Name  Parch  PassengerId  \\\n",
      "0                              Braund, Mr. Owen Harris    0.0          1.0   \n",
      "100                            Petranec, Miss. Matilda    0.0        101.0   \n",
      "200                     Vande Walle, Mr. Nestor Cyriel    0.0        201.0   \n",
      "300           Kelly, Miss. Anna Katherine \"Annie Kate\"    0.0        301.0   \n",
      "400                                 Niskanen, Mr. Juha    0.0        401.0   \n",
      "500                                   Calic, Mr. Petar    0.0        501.0   \n",
      "600  Jacobsohn, Mrs. Sidney Samuel (Amy Frances Chr...    1.0        601.0   \n",
      "700  Astor, Mrs. John Jacob (Madeleine Talmadge Force)    0.0        701.0   \n",
      "800                               Ponesell, Mr. Martin    0.0        801.0   \n",
      "\n",
      "     Pclass     Sex  SibSp  Survived             Ticket  \n",
      "0       3.0    male    1.0       0.0          A/5 21171  \n",
      "100     3.0  female    0.0       0.0             349245  \n",
      "200     3.0    male    0.0       0.0             345770  \n",
      "300     3.0  female    0.0       1.0               9234  \n",
      "400     3.0    male    0.0       1.0  STON/O 2. 3101289  \n",
      "500     3.0    male    0.0       0.0             315086  \n",
      "600     2.0  female    2.0       1.0             243847  \n",
      "700     1.0  female    1.0       1.0           PC 17757  \n",
      "800     2.0    male    0.0       0.0             250647  \n",
      "  letter  number\n",
      "0      a       0\n",
      "1      b       1\n",
      "2      c       2\n",
      "3      e       3\n",
      "4      d       4\n",
      "5      f       5\n",
      "PassengerId      int64\n",
      "Survived         int64\n",
      "Pclass           int64\n",
      "Name            object\n",
      "Sex             object\n",
      "Age            float64\n",
      "SibSp            int64\n",
      "Parch            int64\n",
      "Ticket          object\n",
      "Fare           float64\n",
      "Cabin           object\n",
      "Embarked        object\n",
      "dtype: object\n",
      "(10, 12)\n",
      "       PassengerId   Survived     Pclass        Age      SibSp      Parch  \\\n",
      "count     10.00000  10.000000  10.000000   9.000000  10.000000  10.000000   \n",
      "mean       5.50000   0.500000   2.300000  28.111111   0.700000   0.300000   \n",
      "std        3.02765   0.527046   0.948683  14.945271   0.948683   0.674949   \n",
      "min        1.00000   0.000000   1.000000   2.000000   0.000000   0.000000   \n",
      "25%        3.25000   0.000000   1.250000  22.000000   0.000000   0.000000   \n",
      "50%        5.50000   0.500000   3.000000  27.000000   0.500000   0.000000   \n",
      "75%        7.75000   1.000000   3.000000  35.000000   1.000000   0.000000   \n",
      "max       10.00000   1.000000   3.000000  54.000000   3.000000   2.000000   \n",
      "\n",
      "            Fare  \n",
      "count  10.000000  \n",
      "mean   27.020820  \n",
      "std    23.601938  \n",
      "min     7.250000  \n",
      "25%     8.152075  \n",
      "50%    16.104150  \n",
      "75%    46.414575  \n",
      "max    71.283300  \n"
     ]
    }
   ],
   "source": [
    "import sys\n",
    "import pandas as pd\n",
    "import numpy as np\n",
    "import random\n",
    "import matplotlib.pyplot as plt\n",
    "\n",
    "# Прочитать файл CSV (определенные столбцы и определенное кол-во строк) и перевести его в DataFrame\n",
    " \n",
    "df = pd.read_csv('https://raw.githubusercontent.com/Grossmend/CSV/master/titanic/data.csv', nrows=10, usecols=['Name', 'Sex', 'Survived'])\n",
    "print(df)\n",
    "# Прочитать файл CSV и перевести каждую 100-ую строку в DataFrame\n",
    " \n",
    "df = pd.read_csv('https://raw.githubusercontent.com/Grossmend/CSV/master/titanic/data.csv', chunksize=100)\n",
    "df_each = pd.DataFrame()\n",
    "for chunk in df:\n",
    "    df_each = df_each.append(chunk.iloc[0,:])\n",
    "print(df_each)\n",
    "# 36. Преобразовать индексы объекта Series в столбец DataFrame\n",
    " \n",
    "test_list = 'abcedf'\n",
    "test_arr = np.arange(len(test_list))\n",
    "test_dict = dict(zip(test_list, test_arr))\n",
    "s = pd.Series(test_dict)\n",
    " \n",
    "df = s.to_frame().reset_index()\n",
    "df.columns=['letter', 'number']\n",
    "print(df)\n",
    "# Посмотреть информацию объекта DataFrame\n",
    " \n",
    "df = pd.read_csv('https://raw.githubusercontent.com/Grossmend/CSV/master/titanic/data.csv', nrows=10)\n",
    " \n",
    "# Вывести формат каждого столбца\n",
    "print(df.dtypes)\n",
    " \n",
    "# Вывести размерность DataFrame\n",
    "print(df.shape)\n",
    " \n",
    "# Вывести общую статистику\n",
    "print(df.describe())"
   ]
  }
 ],
 "metadata": {
  "kernelspec": {
   "display_name": "Python 3",
   "language": "python",
   "name": "python3"
  },
  "language_info": {
   "codemirror_mode": {
    "name": "ipython",
    "version": 3
   },
   "file_extension": ".py",
   "mimetype": "text/x-python",
   "name": "python",
   "nbconvert_exporter": "python",
   "pygments_lexer": "ipython3",
   "version": "3.7.4"
  }
 },
 "nbformat": 4,
 "nbformat_minor": 2
}
