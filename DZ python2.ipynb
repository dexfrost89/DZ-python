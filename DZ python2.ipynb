{
 "cells": [
  {
   "cell_type": "markdown",
   "metadata": {},
   "source": [
    "Индекс максимума последовательности"
   ]
  },
  {
   "cell_type": "code",
   "execution_count": 1,
   "metadata": {},
   "outputs": [
    {
     "name": "stdout",
     "output_type": "stream",
     "text": [
      "1\n",
      "3\n",
      "5\n",
      "7\n",
      "9\n",
      "4\n",
      "0\n",
      "\n",
      "4\n"
     ]
    }
   ],
   "source": [
    "res = 0\n",
    "maximum = 0\n",
    "it = 0\n",
    "n = int(input())\n",
    "while n != 0:\n",
    "    if maximum < n:\n",
    "        res = it\n",
    "        maximum = n\n",
    "    n = int(input())\n",
    "    it += 1\n",
    "print('')\n",
    "print(res)"
   ]
  },
  {
   "cell_type": "markdown",
   "metadata": {},
   "source": [
    "Больше своих соседей"
   ]
  },
  {
   "cell_type": "code",
   "execution_count": 1,
   "metadata": {},
   "outputs": [
    {
     "name": "stdout",
     "output_type": "stream",
     "text": [
      "1 2 3 4 5\n",
      "\n",
      "0\n"
     ]
    }
   ],
   "source": [
    "mas = list(map(int, input().split()))\n",
    "res = 0\n",
    "for i in range(1, len(mas) - 1):\n",
    "    if(mas[i] > mas[i - 1] and mas[i] > mas[i + 1]):\n",
    "        res += 1\n",
    "print('')\n",
    "print(res)"
   ]
  },
  {
   "cell_type": "markdown",
   "metadata": {},
   "source": [
    "Возведение в степень"
   ]
  },
  {
   "cell_type": "code",
   "execution_count": 3,
   "metadata": {},
   "outputs": [
    {
     "name": "stdout",
     "output_type": "stream",
     "text": [
      "2\n",
      "8\n",
      "\n",
      "256.0\n"
     ]
    }
   ],
   "source": [
    "def pow(a, n):\n",
    "    if n == 0:\n",
    "        return 1\n",
    "    return a * pow(a, n - 1)\n",
    "\n",
    "a, n = float(input()), int(input())\n",
    "\n",
    "print('')\n",
    "print(pow(a, n))"
   ]
  },
  {
   "cell_type": "markdown",
   "metadata": {},
   "source": [
    "Диагонали, параллельные главной"
   ]
  },
  {
   "cell_type": "code",
   "execution_count": 6,
   "metadata": {},
   "outputs": [
    {
     "name": "stdout",
     "output_type": "stream",
     "text": [
      "5\n",
      "0 1 2 3 4\n",
      "1 0 1 2 3\n",
      "2 1 0 1 2\n",
      "3 2 1 0 1\n",
      "4 3 2 1 0\n"
     ]
    }
   ],
   "source": [
    "n = int(input())\n",
    "res = [[max(i - j, j - i) for j in range(n)] for i in range(n)]\n",
    "for i in res:\n",
    "    print(' '.join(map(str, i)))"
   ]
  },
  {
   "cell_type": "markdown",
   "metadata": {},
   "source": [
    "Кубики"
   ]
  },
  {
   "cell_type": "code",
   "execution_count": 7,
   "metadata": {},
   "outputs": [
    {
     "name": "stdout",
     "output_type": "stream",
     "text": [
      "3 4\n",
      "1\n",
      "2\n",
      "3\n",
      "1\n",
      "2\n",
      "3\n",
      "4\n",
      "3\n",
      "1 2 3\n"
     ]
    }
   ],
   "source": [
    "n, m = map(int, input().split())\n",
    "seta, setb = [], []\n",
    "for i in range(n):\n",
    "    seta.append(int(input()))\n",
    "for i in range(m):\n",
    "    setb.append(int(input()))\n",
    "seta = set(seta)\n",
    "setb = set(setb)\n",
    "\n",
    "res1 = seta.intersection(setb)\n",
    "res2 = seta - setb\n",
    "res3 = setb - seta\n",
    "print(len(res1))\n",
    "print(' '.join(map(str, sorted(list(res1)))))\n",
    "print(len(res2))\n",
    "print(' '.join(map(str, sorted(list(res2)))))\n",
    "print(len(res3))\n",
    "print(' '.join(map(str, sorted(list(res3)))))"
   ]
  },
  {
   "cell_type": "markdown",
   "metadata": {},
   "source": [
    "Страны и города"
   ]
  },
  {
   "cell_type": "code",
   "execution_count": 2,
   "metadata": {},
   "outputs": [
    {
     "name": "stdout",
     "output_type": "stream",
     "text": [
      "2\n",
      "Russia Moscow Petersburg Novgorod Kaluga\n",
      "Ukraine Kiev Donetsk Odessa\n",
      "3\n",
      "Odessa\n",
      "Ukraine\n",
      "Moscow\n",
      "Russia\n",
      "Novgorod\n",
      "Russia\n"
     ]
    }
   ],
   "source": [
    "n = int(input())\n",
    "\n",
    "cities = dict()\n",
    "\n",
    "for i in range(n):\n",
    "    string = input().split()\n",
    "    for j in string[1:]:\n",
    "        cities[j] = string[0]\n",
    "\n",
    "m = int(input())\n",
    "for i in range(m):\n",
    "    string = input()\n",
    "    print(cities[string])"
   ]
  }
 ],
 "metadata": {
  "kernelspec": {
   "display_name": "Python 3",
   "language": "python",
   "name": "python3"
  },
  "language_info": {
   "codemirror_mode": {
    "name": "ipython",
    "version": 3
   },
   "file_extension": ".py",
   "mimetype": "text/x-python",
   "name": "python",
   "nbconvert_exporter": "python",
   "pygments_lexer": "ipython3",
   "version": "3.7.3"
  }
 },
 "nbformat": 4,
 "nbformat_minor": 2
}
