{
 "cells": [
  {
   "cell_type": "markdown",
   "metadata": {},
   "source": [
    "Шнурки"
   ]
  },
  {
   "cell_type": "code",
   "execution_count": 4,
   "metadata": {},
   "outputs": [
    {
     "name": "stdout",
     "output_type": "stream",
     "text": [
      "2\n",
      "1\n",
      "3\n",
      "4\n",
      "26\n"
     ]
    }
   ],
   "source": [
    "a, b, l, N = int(input()), int(input()), int(input()), int(input())\n",
    "print(2 * l + N * a + (N - 1) * a + (N - 1) * 2 * b)"
   ]
  },
  {
   "cell_type": "markdown",
   "metadata": {},
   "source": [
    "Шахматная доска"
   ]
  },
  {
   "cell_type": "code",
   "execution_count": 5,
   "metadata": {},
   "outputs": [
    {
     "name": "stdout",
     "output_type": "stream",
     "text": [
      "1\n",
      "1\n",
      "2\n",
      "2\n",
      "YES\n"
     ]
    }
   ],
   "source": [
    "x1, y1, x2, y2 = int(input()), int(input()), int(input()), int(input())\n",
    "if((x1 + y1) % 2 == (x2 + y2) % 2):\n",
    "    print('YES')\n",
    "else:\n",
    "    print('NO')"
   ]
  },
  {
   "cell_type": "markdown",
   "metadata": {},
   "source": [
    "Часы 2"
   ]
  },
  {
   "cell_type": "code",
   "execution_count": 8,
   "metadata": {},
   "outputs": [
    {
     "name": "stdout",
     "output_type": "stream",
     "text": [
      "359\n",
      "348.0\n"
     ]
    }
   ],
   "source": [
    "a = float(input())\n",
    "b = a * 12\n",
    "b %= 360\n",
    "print(b)"
   ]
  },
  {
   "cell_type": "markdown",
   "metadata": {},
   "source": [
    "Сумма 10 чисел"
   ]
  },
  {
   "cell_type": "code",
   "execution_count": 10,
   "metadata": {},
   "outputs": [
    {
     "name": "stdout",
     "output_type": "stream",
     "text": [
      "1\n",
      "1\n",
      "1\n",
      "1\n",
      "1\n",
      "1\n",
      "1\n",
      "1\n",
      "1\n",
      "1\n",
      "10\n"
     ]
    }
   ],
   "source": [
    "res = 0\n",
    "for i in range(10):\n",
    "    res += int(input())\n",
    "print(res)"
   ]
  },
  {
   "cell_type": "markdown",
   "metadata": {},
   "source": [
    "Удаление символа"
   ]
  },
  {
   "cell_type": "code",
   "execution_count": 11,
   "metadata": {},
   "outputs": [
    {
     "name": "stdout",
     "output_type": "stream",
     "text": [
      "lksadm@kalsdmsa@dsfl\n",
      "lksadmkalsdmsadsfl\n"
     ]
    }
   ],
   "source": [
    "a = input()\n",
    "res = ''\n",
    "for i in a:\n",
    "    if(i != '@'):\n",
    "        res += i\n",
    "print(res)"
   ]
  }
 ],
 "metadata": {
  "kernelspec": {
   "display_name": "Python 3",
   "language": "python",
   "name": "python3"
  },
  "language_info": {
   "codemirror_mode": {
    "name": "ipython",
    "version": 3
   },
   "file_extension": ".py",
   "mimetype": "text/x-python",
   "name": "python",
   "nbconvert_exporter": "python",
   "pygments_lexer": "ipython3",
   "version": "3.7.3"
  }
 },
 "nbformat": 4,
 "nbformat_minor": 2
}
